{
  "nbformat": 4,
  "nbformat_minor": 0,
  "metadata": {
    "colab": {
      "name": "Data_analysis_algorithms_HW_1.ipynb",
      "provenance": [],
      "collapsed_sections": []
    },
    "kernelspec": {
      "name": "python3",
      "display_name": "Python 3"
    },
    "language_info": {
      "name": "python"
    }
  },
  "cells": [
    {
      "cell_type": "code",
      "metadata": {
        "id": "N03DM8GC9Pko"
      },
      "source": [
        "import numpy as np\n",
        "import matplotlib.pyplot as plt"
      ],
      "execution_count": 16,
      "outputs": []
    },
    {
      "cell_type": "markdown",
      "metadata": {
        "id": "kFeH-42w-66f"
      },
      "source": [
        "**1. Подберите скорость обучения (alpha) и количество итераций**"
      ]
    },
    {
      "cell_type": "code",
      "metadata": {
        "id": "m3422POs_UtB"
      },
      "source": [
        "X = np.array([[1, 1, 1, 1, 1, 1, 1, 1, 1, 1],   # для умножения на intercept\n",
        "              [1, 1, 2, 1, 3, 0, 5, 10, 1, 2]]) # стаж"
      ],
      "execution_count": 11,
      "outputs": []
    },
    {
      "cell_type": "code",
      "metadata": {
        "id": "bXYQ6Emq_VUt"
      },
      "source": [
        "# средний балл ЕГЭ (целевая переменная)\n",
        "y = [45, 55, 50, 59, 65, 35, 75, 80, 50, 60]"
      ],
      "execution_count": 13,
      "outputs": []
    },
    {
      "cell_type": "code",
      "metadata": {
        "id": "WjvbcMXD_W7K"
      },
      "source": [
        "def calc_mse(y, y_pred):\n",
        "    err = np.mean((y - y_pred)**2)\n",
        "    return err\n",
        "\n",
        "def calc_mae(y, y_pred):\n",
        "    err = np.mean(np.abs(y - y_pred))\n",
        "    return err"
      ],
      "execution_count": 17,
      "outputs": []
    },
    {
      "cell_type": "code",
      "metadata": {
        "colab": {
          "base_uri": "https://localhost:8080/"
        },
        "id": "VUxSDQe9_Yyf",
        "outputId": "f5dc8142-f90f-4547-c9c5-778db9883eae"
      },
      "source": [
        "n = X.shape[1]\n",
        "alpha = 2e-2\n",
        "w = np.array([1, 0.5])\n",
        "\n",
        "for i in range(500):\n",
        "    y_pred = np.dot(w, X)\n",
        "    err = calc_mse(y, y_pred)\n",
        "    for j in range(w.shape[0]):\n",
        "        w[j] -= alpha * (1/n * 2 * np.sum(X[j] * (y_pred - y)))\n",
        "    if i % 100 == 0:\n",
        "        print(f'Iteration №{i}: W_new = {w}, MSE = {round(err, 2)}')"
      ],
      "execution_count": 27,
      "outputs": [
        {
          "output_type": "stream",
          "name": "stdout",
          "text": [
            "Iteration №0: W_new = [3.204 7.3  ], MSE = 3173.15\n",
            "Iteration №100: W_new = [41.95214292  4.88570667], MSE = 61.57\n",
            "Iteration №200: W_new = [46.58653419  4.02993086], MSE = 46.17\n",
            "Iteration №300: W_new = [47.15320146  3.92529142], MSE = 45.94\n",
            "Iteration №400: W_new = [47.22249035  3.9124967 ], MSE = 45.94\n"
          ]
        }
      ]
    },
    {
      "cell_type": "markdown",
      "metadata": {
        "id": "GjrnSuT5-ouF"
      },
      "source": [
        "**2 (опция). В этом коде мы избавляемся от итераций по весам, но тут есть ошибка, исправьте ее:**\n",
        "\n",
        "```\n",
        "for i in range(1000):\n",
        "y_pred = np.dot(W, X)\n",
        "err = calc_mse(y, y_pred)\n",
        "'''for ii in range(W.shape[0]):\n",
        "W[ii] -= alpha * (1/n * 2 * np.sum(X[ii] * (y_pred - y)))'''\n",
        "W -= (alpha * (1/n * 2 * np.sum(X * (y_pred - y))))\n",
        "if i % 100 == 0:\n",
        "print(i, W, err)\n",
        "```\n",
        "\n"
      ]
    },
    {
      "cell_type": "code",
      "metadata": {
        "colab": {
          "base_uri": "https://localhost:8080/"
        },
        "id": "dbbNMGNh-qtq",
        "outputId": "f531ff97-d6dd-4fae-8a97-85c878add0ea"
      },
      "source": [
        "w = np.array([1, 0.5])\n",
        "\n",
        "for i in range(1000):\n",
        "    y_pred = np.dot(w, X)\n",
        "    err = calc_mse(y, y_pred)\n",
        "    for j in range(w.shape[0]):\n",
        "        w[j] -= alpha * (1/n * 2 * np.sum(X[j] * (y_pred - y)))\n",
        "    if i % 100 == 0:\n",
        "        print(i, w, err)"
      ],
      "execution_count": 29,
      "outputs": [
        {
          "output_type": "stream",
          "name": "stdout",
          "text": [
            "0 [3.204 7.3  ] 3173.15\n",
            "100 [41.95214292  4.88570667] 61.568780958579865\n",
            "200 [46.58653419  4.02993086] 46.171203616546116\n",
            "300 [47.15320146  3.92529142] 45.94099410777859\n",
            "400 [47.22249035  3.9124967 ] 45.937552240480294\n",
            "500 [47.2309626   3.91093223] 45.93750078104854\n",
            "600 [47.23199854  3.91074093] 45.93750001167747\n",
            "700 [47.23212521  3.91071754] 45.937500000174595\n",
            "800 [47.2321407   3.91071468] 45.93750000000263\n",
            "900 [47.23214259  3.91071433] 45.93750000000004\n"
          ]
        }
      ]
    }
  ]
}