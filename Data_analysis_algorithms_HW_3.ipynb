{
  "nbformat": 4,
  "nbformat_minor": 0,
  "metadata": {
    "colab": {
      "name": "Data_analysis_algorithms_HW_3.ipynb",
      "provenance": []
    },
    "kernelspec": {
      "name": "python3",
      "display_name": "Python 3"
    },
    "language_info": {
      "name": "python"
    }
  },
  "cells": [
    {
      "cell_type": "code",
      "metadata": {
        "id": "ksoA4y79BRml"
      },
      "source": [
        "import numpy as np\n",
        "import matplotlib.pyplot as plt\n",
        "import warnings\n",
        "\n",
        "warnings.filterwarnings('ignore')"
      ],
      "execution_count": 1,
      "outputs": []
    },
    {
      "cell_type": "markdown",
      "metadata": {
        "id": "V3hINbcUA3EJ"
      },
      "source": [
        "1*. Измените функцию calc_logloss так, чтобы нули по возможности не попадали в np.log. "
      ]
    },
    {
      "cell_type": "code",
      "metadata": {
        "id": "hNWupCOvBU5j"
      },
      "source": [
        "# Заменяю 0 и 1 на максимально близкое к этим значениям число с плавающей запятой\n",
        "\n",
        "def calc_logloss(y, y_pred):\n",
        "    \n",
        "    y_pred = y_pred.astype(float)\n",
        "    \n",
        "    for i in range(y_pred.shape[0]):\n",
        "        if y_pred[i] <= 0:\n",
        "            y_pred[i] = 0.0000000000000001\n",
        "        elif y_pred[i] >= 1:\n",
        "            y_pred[i] = 0.9999999999999999\n",
        "                \n",
        "    return - np.mean(y * np.log(y_pred) + (1.0 - y) * np.log(1.0 - y_pred))"
      ],
      "execution_count": 2,
      "outputs": []
    },
    {
      "cell_type": "code",
      "metadata": {
        "colab": {
          "base_uri": "https://localhost:8080/"
        },
        "id": "iskV48rUBc7t",
        "outputId": "c184d9c2-23bc-4388-cd8d-de686b5d619d"
      },
      "source": [
        "# Результат:\n",
        "\n",
        "y = np.array([1, 0])\n",
        "\n",
        "y_pred1 = np.array([0, 1])\n",
        "y_pred2 = np.array([1, 0])\n",
        "\n",
        "calc_logloss(y, y_pred1), calc_logloss(y, y_pred2)"
      ],
      "execution_count": 4,
      "outputs": [
        {
          "output_type": "execute_result",
          "data": {
            "text/plain": [
              "(36.78908102879092, 1.1102230246251565e-16)"
            ]
          },
          "metadata": {},
          "execution_count": 4
        }
      ]
    },
    {
      "cell_type": "markdown",
      "metadata": {
        "id": "Wc4gShk0A40X"
      },
      "source": [
        "2. Подберите аргументы функции eval_model для логистической регрессии таким образом, чтобы log loss был минимальным."
      ]
    },
    {
      "cell_type": "code",
      "metadata": {
        "id": "cKjojGrABnF9"
      },
      "source": [
        "# Создаем датасет\n",
        "\n",
        "X = np.array([[1, 1, 1, 1, 1, 1, 1, 1, 1, 1],\n",
        "              [1, 1, 2, 1, 3, 0, 5, 10, 1, 2],\n",
        "              [500, 700, 750, 600, 1450,\n",
        "               800, 1500, 2000, 450, 1000],\n",
        "              [1, 1, 2, 1, 2, \n",
        "               1, 3, 3, 1, 2]], dtype = np.float64)\n",
        "\n",
        "y = np.array([0, 0, 1, 0, 1, 0, 1, 0, 1, 1], dtype = np.float64)"
      ],
      "execution_count": 6,
      "outputs": []
    },
    {
      "cell_type": "code",
      "metadata": {
        "colab": {
          "base_uri": "https://localhost:8080/"
        },
        "id": "AoSHGUa5Bs9q",
        "outputId": "21d48f6d-483a-46c1-d069-7bf2bcb1d581"
      },
      "source": [
        "# Стандартизируем выбоку\n",
        "\n",
        "def calc_std_feat(x):\n",
        "    x[1:] = ((x[1:].T - x[1:].mean(axis=1)) / x[1:].std(axis=1)).T\n",
        "    return x\n",
        "\n",
        "standart_X = calc_std_feat(X)\n",
        "standart_X"
      ],
      "execution_count": 8,
      "outputs": [
        {
          "output_type": "execute_result",
          "data": {
            "text/plain": [
              "array([[ 1.        ,  1.        ,  1.        ,  1.        ,  1.        ,\n",
              "         1.        ,  1.        ,  1.        ,  1.        ,  1.        ],\n",
              "       [-0.57142857, -0.57142857, -0.21428571, -0.57142857,  0.14285714,\n",
              "        -0.92857143,  0.85714286,  2.64285714, -0.57142857, -0.21428571],\n",
              "       [-0.97958969, -0.56713087, -0.46401617, -0.77336028,  0.97958969,\n",
              "        -0.36090146,  1.08270439,  2.11385144, -1.08270439,  0.05155735],\n",
              "       [-0.89625816, -0.89625816,  0.38411064, -0.89625816,  0.38411064,\n",
              "        -0.89625816,  1.66447944,  1.66447944, -0.89625816,  0.38411064]])"
            ]
          },
          "metadata": {},
          "execution_count": 8
        }
      ]
    },
    {
      "cell_type": "code",
      "metadata": {
        "id": "tu3HpqrKDNLh"
      },
      "source": [
        "# Обучаем модель\n",
        "\n",
        "def sigmoid(z):\n",
        "    res = 1 / (1 + np.exp(-z))\n",
        "    return res"
      ],
      "execution_count": 9,
      "outputs": []
    },
    {
      "cell_type": "code",
      "metadata": {
        "id": "GfViA8DhDQWQ"
      },
      "source": [
        "def eval_model(X, y, iterations, alpha=1e-4):\n",
        "    \n",
        "    np.random.seed(42)\n",
        "    W = np.random.randn(X.shape[0])\n",
        "    n = X.shape[1]\n",
        "    errors = []\n",
        "    ww = []\n",
        "    \n",
        "    for i in range(1, iterations+1):\n",
        "        z = np.dot(W, X)\n",
        "        y_pred = sigmoid(z)\n",
        "        err = calc_logloss(y, y_pred)\n",
        "        W -= alpha * (1/n * np.dot((y_pred - y), X.T))\n",
        "        \n",
        "        errors.append(err)\n",
        "        \n",
        "        if i % (iterations / 10) == 0:\n",
        "            print(i, W, err)\n",
        "    \n",
        "    errors = np.array(errors)\n",
        "    \n",
        "    return errors, W"
      ],
      "execution_count": 10,
      "outputs": []
    },
    {
      "cell_type": "code",
      "metadata": {
        "colab": {
          "base_uri": "https://localhost:8080/"
        },
        "id": "94CUnWAkDSS8",
        "outputId": "da545d71-e223-4c68-a293-68b14c6f718c"
      },
      "source": [
        "model = eval_model(\n",
        "    X=standart_X,\n",
        "    y=y,\n",
        "    iterations=6000,\n",
        "    alpha=1e-2\n",
        ")\n",
        "\n",
        "model[0][-2:]"
      ],
      "execution_count": 11,
      "outputs": [
        {
          "output_type": "stream",
          "name": "stdout",
          "text": [
            "600 [ 0.17824997 -0.97116504 -0.02607988  1.46430415] 0.48985240629168086\n",
            "1200 [ 0.07395856 -1.2388272  -0.16312474  1.82897532] 0.4501286648107995\n",
            "1800 [ 0.06035202 -1.44495132 -0.26615902  2.15742805] 0.4231799335005643\n",
            "2400 [ 0.07238336 -1.61978426 -0.35850137  2.44522282] 0.4027979097629191\n",
            "3000 [ 0.09256249 -1.77093167 -0.44329208  2.70101059] 0.3867969488907016\n",
            "3600 [ 0.11572302 -1.9033832  -0.52226196  2.93131324] 0.3738895997943118\n",
            "4200 [ 0.14010956 -2.02077465 -0.59658742  3.14097152] 0.3632368317911221\n",
            "4800 [ 0.16501519 -2.1258425  -0.66710883  3.33365632] 0.35426975061363336\n",
            "5400 [ 0.19010154 -2.22069471 -0.73444655  3.51220301] 0.34659142894762324\n",
            "6000 [ 0.21518233 -2.30698587 -0.79907034  3.67883617] 0.3399180274364685\n"
          ]
        },
        {
          "output_type": "execute_result",
          "data": {
            "text/plain": [
              "array([0.33992844, 0.33991803])"
            ]
          },
          "metadata": {},
          "execution_count": 11
        }
      ]
    },
    {
      "cell_type": "code",
      "metadata": {
        "colab": {
          "base_uri": "https://localhost:8080/",
          "height": 265
        },
        "id": "IXkmjS-fDW8N",
        "outputId": "3d8597ab-675a-4135-b24c-6de3cf4f6b9c"
      },
      "source": [
        "plt.plot(range(model[0].shape[0]),model[0])\n",
        "\n",
        "plt.grid()\n",
        "plt.show()"
      ],
      "execution_count": 12,
      "outputs": [
        {
          "output_type": "display_data",
          "data": {
            "image/png": "[encoded data removed]",
            "text/plain": [
              "<Figure size 432x288 with 1 Axes>"
            ]
          },
          "metadata": {
            "needs_background": "light"
          }
        }
      ]
    },
    {
      "cell_type": "markdown",
      "metadata": {
        "id": "Y9SDg3O-DY2e"
      },
      "source": [
        "\n",
        "**Результат:** log_loss минимален при alpha = 1e-2 и количестве итераций = 6000"
      ]
    },
    {
      "cell_type": "markdown",
      "metadata": {
        "id": "vSkEr9jhA7ZH"
      },
      "source": [
        "3. Создайте функцию calc_pred_proba, возвращающую предсказанную вероятность класса 1 (на вход подаются W, который уже посчитан функцией eval_model и X, на выходе - массив y_pred_proba)."
      ]
    },
    {
      "cell_type": "code",
      "metadata": {
        "id": "A6BFIDDADqDa"
      },
      "source": [
        "def cals_pred_proba(W, X):\n",
        "    \n",
        "    y_pred_proba = 1 / (1 + np.exp(-np.dot(W, X)))\n",
        "    \n",
        "    return y_pred_proba"
      ],
      "execution_count": 13,
      "outputs": []
    },
    {
      "cell_type": "code",
      "metadata": {
        "colab": {
          "base_uri": "https://localhost:8080/"
        },
        "id": "nLn1g9DMDr2n",
        "outputId": "be2118eb-d77e-41f6-d0bb-13eaf8a474b0"
      },
      "source": [
        "cals_pred_proba(model[1], standart_X)"
      ],
      "execution_count": 15,
      "outputs": [
        {
          "output_type": "execute_result",
          "data": {
            "text/plain": [
              "array([0.27270017, 0.21239491, 0.92367771, 0.24126481, 0.62619604,\n",
              "       0.34267011, 0.97057249, 0.19036803, 0.28934445, 0.88908401])"
            ]
          },
          "metadata": {},
          "execution_count": 15
        }
      ]
    },
    {
      "cell_type": "markdown",
      "metadata": {
        "id": "fmKwM4oPA9Ma"
      },
      "source": [
        "4. Создайте функцию calc_pred, возвращающую предсказанный класс (на вход подаются W, который уже посчитан функцией eval_model и X, на выходе - массив y_pred)."
      ]
    },
    {
      "cell_type": "code",
      "metadata": {
        "id": "7ljR2Dk9Dyoo"
      },
      "source": [
        "def y_pred(W, X):\n",
        "    \n",
        "    y_pred = cals_pred_proba(W, X)\n",
        "\n",
        "    for i in range(y_pred.shape[0]):\n",
        "        if y_pred[i] > 0.5:\n",
        "            y_pred[i] = 1\n",
        "        else:\n",
        "            y_pred[i] = 0\n",
        "    \n",
        "    return y_pred"
      ],
      "execution_count": 16,
      "outputs": []
    },
    {
      "cell_type": "code",
      "metadata": {
        "colab": {
          "base_uri": "https://localhost:8080/"
        },
        "id": "u43RbYyJD0uG",
        "outputId": "d4638301-02a8-4115-9718-365e558320c0"
      },
      "source": [
        "cp = y_pred(model[1], standart_X)\n",
        "cp"
      ],
      "execution_count": 20,
      "outputs": [
        {
          "output_type": "execute_result",
          "data": {
            "text/plain": [
              "array([0., 0., 1., 0., 1., 0., 1., 0., 0., 1.])"
            ]
          },
          "metadata": {},
          "execution_count": 20
        }
      ]
    },
    {
      "cell_type": "code",
      "metadata": {
        "colab": {
          "base_uri": "https://localhost:8080/",
          "height": 104
        },
        "id": "UPUdQ-9JD2kt",
        "outputId": "6f821339-ba1e-4147-83a9-54f2d3307d81"
      },
      "source": [
        "plt.figure(figsize=(4,1))\n",
        "plt.scatter(range(cp.shape[0]), cp)\n",
        "plt.show()"
      ],
      "execution_count": 21,
      "outputs": [
        {
          "output_type": "display_data",
          "data": {
            "image/png": "[encoded data removed]",
            "text/plain": [
              "<Figure size 288x72 with 1 Axes>"
            ]
          },
          "metadata": {
            "needs_background": "light"
          }
        }
      ]
    },
    {
      "cell_type": "markdown",
      "metadata": {
        "id": "EFTEII6WA--P"
      },
      "source": [
        "5. Посчитайте Accuracy, матрицу ошибок, точность и полноту, а также F1 score."
      ]
    },
    {
      "cell_type": "code",
      "metadata": {
        "id": "cqtbB9c3EDTH"
      },
      "source": [
        "def accuracy(y, y_pred):\n",
        "    \n",
        "    acc = (y_pred == y).sum()/cp.shape[0]\n",
        "    \n",
        "    return acc"
      ],
      "execution_count": 22,
      "outputs": []
    },
    {
      "cell_type": "code",
      "metadata": {
        "colab": {
          "base_uri": "https://localhost:8080/"
        },
        "id": "GiK0AomsEFXV",
        "outputId": "8c47eafb-2882-442d-d3a7-83e997fcaa04"
      },
      "source": [
        "# Accuracy\n",
        "accuracy(y=y, y_pred=cp)"
      ],
      "execution_count": 23,
      "outputs": [
        {
          "output_type": "execute_result",
          "data": {
            "text/plain": [
              "0.9"
            ]
          },
          "metadata": {},
          "execution_count": 23
        }
      ]
    },
    {
      "cell_type": "code",
      "metadata": {
        "id": "iwxcJlwoEKOP"
      },
      "source": [
        "\n",
        "def error_matrix(y, y_pred):\n",
        "    \n",
        "    TP = y * y_pred\n",
        "    FP = y_pred - TP\n",
        "    FN = y - TP\n",
        "    TN = y**0 - TP - FP - FN\n",
        "    \n",
        "    return np.array([[TP.sum(), FP.sum()], \n",
        "                     [FN.sum(), TN.sum()]])"
      ],
      "execution_count": 25,
      "outputs": []
    },
    {
      "cell_type": "code",
      "metadata": {
        "colab": {
          "base_uri": "https://localhost:8080/"
        },
        "id": "HBT79LviELtJ",
        "outputId": "c674e68a-c25c-4998-f7cd-cb30bcbb2622"
      },
      "source": [
        "# матрица ошибок\n",
        "em = error_matrix(y=y, y_pred=cp)\n",
        "em"
      ],
      "execution_count": 32,
      "outputs": [
        {
          "output_type": "execute_result",
          "data": {
            "text/plain": [
              "array([[4., 0.],\n",
              "       [1., 5.]])"
            ]
          },
          "metadata": {},
          "execution_count": 32
        }
      ]
    },
    {
      "cell_type": "code",
      "metadata": {
        "colab": {
          "base_uri": "https://localhost:8080/"
        },
        "id": "K-a3LnZsESo2",
        "outputId": "34dd8543-7eaa-45c6-f09c-1230bc51dd55"
      },
      "source": [
        "# точность\n",
        "def precision(em):\n",
        "    return em[0,0]/(em[0,0]+em[0,1])\n",
        "\n",
        "precision(em)"
      ],
      "execution_count": 35,
      "outputs": [
        {
          "output_type": "execute_result",
          "data": {
            "text/plain": [
              "1.0"
            ]
          },
          "metadata": {},
          "execution_count": 35
        }
      ]
    },
    {
      "cell_type": "code",
      "metadata": {
        "colab": {
          "base_uri": "https://localhost:8080/"
        },
        "id": "nGlfQpVLEjck",
        "outputId": "cfda99b6-03d5-4c6a-d656-6abc2ed29292"
      },
      "source": [
        "# полнота\n",
        "def recall(em):\n",
        "    return em[0,0]/(em[0,0]+em[1,0])\n",
        "\n",
        "recall(em)"
      ],
      "execution_count": 36,
      "outputs": [
        {
          "output_type": "execute_result",
          "data": {
            "text/plain": [
              "0.8"
            ]
          },
          "metadata": {},
          "execution_count": 36
        }
      ]
    },
    {
      "cell_type": "code",
      "metadata": {
        "colab": {
          "base_uri": "https://localhost:8080/"
        },
        "id": "GW7zRMF1En3a",
        "outputId": "8ec100d3-ef04-47cd-94bb-32db92ccb48b"
      },
      "source": [
        "# F1 score\n",
        "def F1_score(em):\n",
        "    pre = precision(em)\n",
        "    rec = recall(em)\n",
        "    return (2*pre*rec)/(pre+rec)\n",
        "\n",
        "F1_score(em)"
      ],
      "execution_count": 37,
      "outputs": [
        {
          "output_type": "execute_result",
          "data": {
            "text/plain": [
              "0.888888888888889"
            ]
          },
          "metadata": {},
          "execution_count": 37
        }
      ]
    },
    {
      "cell_type": "markdown",
      "metadata": {
        "id": "rJY0MTbjBAII"
      },
      "source": [
        "6. Могла ли модель переобучиться? Почему?\n",
        "\n",
        "**Ответ:** \n",
        "\n",
        "Да, могла, потому что:\n",
        "*   в исходной матрице малое количество объектов\n",
        "*   не были использовани $L_1$ или $L_2$ регуляции\n"
      ]
    }
  ]
}