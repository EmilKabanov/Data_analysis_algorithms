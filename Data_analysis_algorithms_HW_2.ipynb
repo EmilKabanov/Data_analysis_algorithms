{
  "nbformat": 4,
  "nbformat_minor": 0,
  "metadata": {
    "colab": {
      "name": "Data_analysis_algorithms_HW_2.ipynb",
      "provenance": []
    },
    "kernelspec": {
      "name": "python3",
      "display_name": "Python 3"
    },
    "language_info": {
      "name": "python"
    }
  },
  "cells": [
    {
      "cell_type": "markdown",
      "metadata": {
        "id": "SiZ8uw_hXuC4"
      },
      "source": [
        "1. Сгенерировать датасет при помощи sklearn.datasets.make_regression и обучить линейную модель при помощи градиентного и стохастического градиентного спуска. Нанести среднеквадратичную ошибку для обоих методов на один график, сделать выводы о разнице скорости сходимости каждого из методов."
      ]
    },
    {
      "cell_type": "code",
      "metadata": {
        "id": "i_dC1fwzY7Bx"
      },
      "source": [
        "import numpy as np\n",
        "from sklearn import datasets\n",
        "import matplotlib.pyplot as plt\n",
        "\n",
        "%matplotlib inline"
      ],
      "execution_count": null,
      "outputs": []
    },
    {
      "cell_type": "code",
      "metadata": {
        "id": "lPttTjQcY80h"
      },
      "source": [
        "# функция, определяющую среднеквадратичную ошибку\n",
        "def mserror(X, w, y_pred):\n",
        "    y = X.dot(w)\n",
        "    return (sum((y - y_pred)**2)) / len(y)"
      ],
      "execution_count": null,
      "outputs": []
    },
    {
      "cell_type": "code",
      "metadata": {
        "id": "1-kLFIMoY_y6"
      },
      "source": [
        "data, target, coef = datasets.make_regression(n_samples=1000,\n",
        "                                              n_features = 2,\n",
        "                                              n_informative = 2,\n",
        "                                              n_targets = 1, \n",
        "                                              noise = 5,\n",
        "                                              coef = True,\n",
        "                                              random_state = 2)"
      ],
      "execution_count": null,
      "outputs": []
    },
    {
      "cell_type": "code",
      "metadata": {
        "colab": {
          "base_uri": "https://localhost:8080/"
        },
        "id": "h_TqP_lyZRVc",
        "outputId": "9b819de7-0238-4761-e530-414e508efcc4"
      },
      "source": [
        "data"
      ],
      "execution_count": null,
      "outputs": [
        {
          "output_type": "execute_result",
          "data": {
            "text/plain": [
              "array([[ 0.37879447, -0.61837549],\n",
              "       [-0.65293115, -1.06706712],\n",
              "       [-1.06581629, -0.34682333],\n",
              "       ...,\n",
              "       [ 1.19451016,  1.00147133],\n",
              "       [ 0.1256231 ,  0.35261274],\n",
              "       [-0.05674652,  0.41214611]])"
            ]
          },
          "metadata": {},
          "execution_count": 22
        }
      ]
    },
    {
      "cell_type": "code",
      "metadata": {
        "id": "uTBC0nYrZS5G"
      },
      "source": [
        "# градиентный спуск\n",
        "X = data.copy()\n",
        "Y = target.copy()\n",
        "\n",
        "# инициализируем начальный вектор весов\n",
        "w = np.zeros(2)\n",
        "\n",
        "# список векторов весов после каждой итерации\n",
        "w_list = [w.copy()]\n",
        "\n",
        "# список значений ошибок после каждой итерации\n",
        "errors_gs = []\n",
        "\n",
        "# шаг градиентного спуска\n",
        "eta = 0.01\n",
        "\n",
        "# максимальное число итераций\n",
        "max_iter = 1e4\n",
        "\n",
        "# критерий сходимости (разница весов, при которой алгоритм останавливается)\n",
        "min_weight_dist = 1e-8\n",
        "\n",
        "# зададим начальную разницу весов большим числом\n",
        "weight_dist = np.inf\n",
        "\n",
        "# счетчик итераций\n",
        "iter_num = 0\n",
        "\n",
        "# ход градиентного спуска\n",
        "while weight_dist > min_weight_dist and iter_num < max_iter:\n",
        "    new_w = w - 2 * eta * np.dot(X.T, (np.dot(X, w) - Y)) / Y.shape[0]\n",
        "    weight_dist = np.linalg.norm(new_w - w, ord=2)\n",
        "    \n",
        "    w_list.append(new_w.copy())\n",
        "    errors_gs.append(mserror(X, new_w, Y))\n",
        "    \n",
        "    iter_num += 1\n",
        "    w = new_w\n",
        "    \n",
        "w_list = np.array(w_list)"
      ],
      "execution_count": null,
      "outputs": []
    },
    {
      "cell_type": "code",
      "metadata": {
        "id": "4gUXlA_PaGLX"
      },
      "source": [
        "# стохастический градиентный спуск\n",
        "\n",
        "data = data.copy()\n",
        "target = target.copy()\n",
        "# инициализируем начальный вектор весов\n",
        "w = np.zeros(2)\n",
        "\n",
        "# список векторов весов после каждой итерации\n",
        "w_list = [w.copy()]\n",
        "\n",
        "# список значений ошибок после каждой итерации\n",
        "errors_sgs = []\n",
        "\n",
        "# шаг градиентного спуска\n",
        "eta = 0.01\n",
        "\n",
        "# максимальное число итераций\n",
        "max_iter = 1e5\n",
        "\n",
        "# критерий сходимости (разница весов, при которой алгоритм останавливается)\n",
        "min_weight_dist = 1e-8\n",
        "\n",
        "# зададим начальную разницу весов большим числом\n",
        "weight_dist = np.inf\n",
        "\n",
        "# счетчик итераций\n",
        "iter_num = 0\n",
        "\n",
        "np.random.seed(1234)\n",
        "\n",
        "# ход градиентного спуска\n",
        "while weight_dist > min_weight_dist and iter_num < max_iter:\n",
        "    \n",
        "    # генерируем случайный индекс объекта выборки\n",
        "    train_ind = np.random.randint(data.shape[0])\n",
        "    \n",
        "    new_w = w - 2 * eta * np.dot(data[train_ind].T, (np.dot(data[train_ind], w) - target[train_ind])) / target.shape[0]\n",
        "\n",
        "    weight_dist = np.linalg.norm(new_w - w, ord=2)\n",
        "    \n",
        "    w_list.append(new_w.copy())\n",
        "    errors_sgs.append(mserror(data, new_w, target))\n",
        "    \n",
        "    iter_num += 1\n",
        "    w = new_w\n",
        "    \n",
        "w_list = np.array(w_list)"
      ],
      "execution_count": null,
      "outputs": []
    },
    {
      "cell_type": "code",
      "metadata": {
        "colab": {
          "base_uri": "https://localhost:8080/",
          "height": 312
        },
        "id": "Tx-WSQHqaNCE",
        "outputId": "db6cf70d-5347-4307-88b3-f21f6f2cb30e"
      },
      "source": [
        "# Визуализируем изменение функционала ошибки\n",
        "plt.plot(range(len(errors_gs)), errors_gs, color='g')\n",
        "plt.plot(range(len(errors_sgs)), errors_sgs, color='r')\n",
        "plt.title('MSE')\n",
        "plt.xlabel('Iteration number')\n",
        "plt.ylabel('MSE')"
      ],
      "execution_count": null,
      "outputs": [
        {
          "output_type": "execute_result",
          "data": {
            "text/plain": [
              "Text(0, 0.5, 'MSE')"
            ]
          },
          "metadata": {},
          "execution_count": 25
        },
        {
          "output_type": "display_data",
          "data": {
            "image/png": "[encoded data removed]",
            "text/plain": [
              "<Figure size 432x288 with 1 Axes>"
            ]
          },
          "metadata": {
            "needs_background": "light"
          }
        }
      ]
    },
    {
      "cell_type": "markdown",
      "metadata": {
        "id": "nJRDDWG5XwZu"
      },
      "source": [
        "2. Модифицировать решение первого задания путем добавления 𝐿2 -регуляризации (в функцию, считающую MSE, нужно добавить норму вектора весов) и сравнить результаты."
      ]
    }
  ]
}